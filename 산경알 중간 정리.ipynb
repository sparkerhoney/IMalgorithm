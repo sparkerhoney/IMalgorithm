{
 "cells": [
  {
   "cell_type": "markdown",
   "id": "69e946c6",
   "metadata": {},
   "source": [
    "### 00. 파이썬 기초 문법"
   ]
  },
  {
   "cell_type": "markdown",
   "id": "e1f78589",
   "metadata": {},
   "source": [
    "- 반복문\n",
    "```python\n",
    "for 변수 in range(시작값, 끝값+1, 증가값):\n",
    "```"
   ]
  },
  {
   "cell_type": "markdown",
   "id": "4db8ca0f",
   "metadata": {},
   "source": [
    "### 함수"
   ]
  },
  {
   "cell_type": "code",
   "execution_count": 1,
   "id": "6f4773e6",
   "metadata": {},
   "outputs": [
    {
     "name": "stdout",
     "output_type": "stream",
     "text": [
      "300\n"
     ]
    }
   ],
   "source": [
    "def plus(v1, v2):\n",
    "    result = 0\n",
    "    result = v1 + v2\n",
    "    return result\n",
    "\n",
    "# 전역변수 선언 부분\n",
    "\n",
    "hap = 0\n",
    "\n",
    "# 메인 코드 부분\n",
    "\n",
    "hap = plus(100, 200)\n",
    "print(hap)"
   ]
  },
  {
   "cell_type": "markdown",
   "id": "45f86374",
   "metadata": {},
   "source": [
    "- global 예약어"
   ]
  },
  {
   "cell_type": "code",
   "execution_count": 2,
   "id": "c92e598e",
   "metadata": {},
   "outputs": [
    {
     "name": "stdout",
     "output_type": "stream",
     "text": [
      "10\n",
      "10\n"
     ]
    }
   ],
   "source": [
    "def func1():\n",
    "    global a\n",
    "    a = 10\n",
    "    print(a)\n",
    "    \n",
    "def func2():\n",
    "    print(a)\n",
    "    \n",
    "a = 20\n",
    "\n",
    "func1()\n",
    "func2()"
   ]
  },
  {
   "cell_type": "markdown",
   "id": "015c3bb5",
   "metadata": {},
   "source": [
    "- 반환 값이 여러 개인 함수"
   ]
  },
  {
   "cell_type": "code",
   "execution_count": 4,
   "id": "54545321",
   "metadata": {},
   "outputs": [
    {
     "name": "stdout",
     "output_type": "stream",
     "text": [
      "300 -100 [300, -100]\n"
     ]
    }
   ],
   "source": [
    "def multi(v1, v2):\n",
    "    retList = []\n",
    "    res1 = v1 + v2\n",
    "    res2 = v1 - v2\n",
    "    retList.append(res1)\n",
    "    retList.append(res2)\n",
    "    return retList\n",
    "\n",
    "# 전역 변수 선언 부분\n",
    "myList = []\n",
    "hap, sub = 0, 0\n",
    "\n",
    "myList = multi(100, 200)\n",
    "hap = myList[0]\n",
    "sub = myList[1]\n",
    "print(hap, sub, myList)"
   ]
  },
  {
   "cell_type": "markdown",
   "id": "1ba0b476",
   "metadata": {},
   "source": [
    "### 리스트"
   ]
  },
  {
   "cell_type": "code",
   "execution_count": 5,
   "id": "34d3b87b",
   "metadata": {},
   "outputs": [
    {
     "name": "stdout",
     "output_type": "stream",
     "text": [
      "1번째 숫자 : 100\n",
      "2번째 숫자 : 100\n",
      "3번째 숫자 : 100\n",
      "4번째 숫자 : 100\n",
      "400\n"
     ]
    }
   ],
   "source": [
    "aa = []\n",
    "\n",
    "for i in range(0, 4):\n",
    "    aa.append(0)\n",
    "hap = 0\n",
    "\n",
    "for i in range(0, 4):\n",
    "    aa[i] = int(input(str(i + 1) + \"번째 숫자 : \"))\n",
    "hap = 0\n",
    "\n",
    "for i in range(0, 4):\n",
    "    hap = hap + aa[i]\n",
    "    \n",
    "print(hap)"
   ]
  },
  {
   "cell_type": "markdown",
   "id": "e1a5debb",
   "metadata": {},
   "source": [
    "- 리스트 조작 함수"
   ]
  },
  {
   "cell_type": "code",
   "execution_count": 12,
   "id": "8b055442",
   "metadata": {},
   "outputs": [
    {
     "name": "stdout",
     "output_type": "stream",
     "text": [
      "[30, 10, 20]\n",
      "[30, 10, 20, 40]\n",
      "[30, 10, 20]\n",
      "[10, 20, 30]\n",
      "[30, 20, 10]\n",
      "1\n",
      "[30, 20, 222, 10]\n",
      "[30, 20, 10]\n",
      "[30, 20, 10, 77, 88, 77]\n",
      "2\n"
     ]
    }
   ],
   "source": [
    "myList = [30, 10, 20]\n",
    "print(myList)\n",
    "\n",
    "myList.append(40)\n",
    "print(myList)\n",
    "\n",
    "myList.pop()\n",
    "print(myList)\n",
    "\n",
    "myList.sort()\n",
    "print(myList)\n",
    "\n",
    "myList.reverse()\n",
    "print(myList)\n",
    "\n",
    "print(myList.index(20))\n",
    "\n",
    "myList.insert(2, 222)\n",
    "print(myList)\n",
    "\n",
    "myList.remove(222)\n",
    "print(myList)\n",
    "\n",
    "myList.extend([77, 88, 77])\n",
    "print(myList)\n",
    "\n",
    "print(myList.count(77))"
   ]
  },
  {
   "cell_type": "markdown",
   "id": "8b3752be",
   "metadata": {},
   "source": [
    "- 2차원 리스트"
   ]
  },
  {
   "cell_type": "code",
   "execution_count": 24,
   "id": "d5548683",
   "metadata": {},
   "outputs": [
    {
     "name": "stdout",
     "output_type": "stream",
     "text": [
      "         1          2          3          4  \n",
      "         5          6          7          8  \n",
      "         9         10         11         12  \n"
     ]
    }
   ],
   "source": [
    "list1 = []\n",
    "list2 = []\n",
    "value = 1\n",
    "\n",
    "for i in range(0, 3):\n",
    "    for k in range(0, 4):\n",
    "        list1.append(value)\n",
    "        value += 1\n",
    "    list2.append(list1)\n",
    "    list1 = []\n",
    "    \n",
    "for i in range(0, 3):\n",
    "    for k in range(0, 4):\n",
    "        print(\"%10d\" % list2[i][k], end = \" \")\n",
    "    print(\" \")"
   ]
  },
  {
   "cell_type": "markdown",
   "id": "d2ecc28c",
   "metadata": {},
   "source": [
    "- 컴프리헨션 개념\n",
    "```python\n",
    "리스트 = [수식 for 항목 in range() if 조건식]\n",
    "```"
   ]
  },
  {
   "cell_type": "code",
   "execution_count": 25,
   "id": "f57f8dde",
   "metadata": {},
   "outputs": [
    {
     "data": {
      "text/plain": [
       "[1, 2, 3, 4, 5]"
      ]
     },
     "execution_count": 25,
     "metadata": {},
     "output_type": "execute_result"
    }
   ],
   "source": [
    "numList = [num for num in range(1, 6)]\n",
    "numList"
   ]
  },
  {
   "cell_type": "code",
   "execution_count": 26,
   "id": "fc5bc456",
   "metadata": {},
   "outputs": [
    {
     "data": {
      "text/plain": [
       "[9, 36, 81, 144, 225, 324]"
      ]
     },
     "execution_count": 26,
     "metadata": {},
     "output_type": "execute_result"
    }
   ],
   "source": [
    "# if문을 추가하여 3의 배수인 숫자의 제곱값을 가지고 옴\n",
    "\n",
    "numList = [num * num for num in range(1, 21) if num % 3 ==0] \n",
    "numList"
   ]
  },
  {
   "cell_type": "markdown",
   "id": "d3ef4bfb",
   "metadata": {},
   "source": [
    "## 01 알고리즘 소개"
   ]
  },
  {
   "cell_type": "markdown",
   "id": "c4c487b2",
   "metadata": {},
   "source": [
    "## 탐색"
   ]
  },
  {
   "cell_type": "markdown",
   "id": "f367a7a3",
   "metadata": {},
   "source": [
    "- 이진 탐색"
   ]
  },
  {
   "cell_type": "code",
   "execution_count": 37,
   "id": "4bc1dc90",
   "metadata": {},
   "outputs": [
    {
     "name": "stdout",
     "output_type": "stream",
     "text": [
      "1\n"
     ]
    }
   ],
   "source": [
    "def binary_search(arr, item):\n",
    "    low = 0\n",
    "    high = len(arr) - 1\n",
    "    \n",
    "    while low <= high :\n",
    "        mid = (low + high) // 2\n",
    "        guess = arr[mid]\n",
    "        \n",
    "        if guess == item:\n",
    "            return mid\n",
    "        if guess > item:\n",
    "            high = mid - 1 \n",
    "        else:\n",
    "            low = mid + 1\n",
    "    return -1\n",
    "\n",
    "myList = [1, 3, 5, 7, 9]\n",
    "\n",
    "print(binary_search(myList, 3))\n"
   ]
  },
  {
   "cell_type": "markdown",
   "id": "1f2643b8",
   "metadata": {},
   "source": [
    "- 최대 공약수 문제"
   ]
  },
  {
   "cell_type": "code",
   "execution_count": null,
   "id": "8e31f77b",
   "metadata": {},
   "outputs": [],
   "source": []
  }
 ],
 "metadata": {
  "kernelspec": {
   "display_name": "Python 3 (ipykernel)",
   "language": "python",
   "name": "python3"
  },
  "language_info": {
   "codemirror_mode": {
    "name": "ipython",
    "version": 3
   },
   "file_extension": ".py",
   "mimetype": "text/x-python",
   "name": "python",
   "nbconvert_exporter": "python",
   "pygments_lexer": "ipython3",
   "version": "3.9.13"
  }
 },
 "nbformat": 4,
 "nbformat_minor": 5
}
