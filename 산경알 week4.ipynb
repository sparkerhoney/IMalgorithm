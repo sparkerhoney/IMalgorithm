{
 "cells": [
  {
   "cell_type": "code",
   "execution_count": 6,
   "id": "c700b978",
   "metadata": {},
   "outputs": [
    {
     "name": "stdout",
     "output_type": "stream",
     "text": [
      "종이 상자를 엽니다\n",
      "종이 상자를 엽니다\n",
      "종이 상자를 엽니다\n",
      "반지를 넣고 반환합니다\n",
      "종이 상자를 닫습니다\n",
      "종이 상자를 닫습니다\n"
     ]
    }
   ],
   "source": [
    "# Recursion\n",
    "\n",
    "def openbox():\n",
    "    global count\n",
    "    print('종이 상자를 엽니다')\n",
    "    count -= 1  # 계속해서 count를 깍아주면서 하나씩 하나씩 재귀를 진행\n",
    "    \n",
    "    if count == 0 : # count가 0이 되면 본 조건문 만족\n",
    "        print('반지를 넣고 반환합니다')\n",
    "        return # 이 함수가 call한 곳으로 돌아가시오\n",
    "    \n",
    "    openbox()\n",
    "    print('종이 상자를 닫습니다')\n",
    "    \n",
    "count = 3\n",
    "openbox()"
   ]
  },
  {
   "cell_type": "code",
   "execution_count": 3,
   "id": "ddeb2c97",
   "metadata": {},
   "outputs": [
    {
     "data": {
      "text/plain": [
       "6"
      ]
     },
     "execution_count": 3,
     "metadata": {},
     "output_type": "execute_result"
    }
   ],
   "source": [
    "def fact(x):\n",
    "    if x == 1:\n",
    "        return 1\n",
    "    else:\n",
    "        return x * fact(x-1)\n",
    "fact(3)"
   ]
  },
  {
   "cell_type": "markdown",
   "id": "25c80ef8",
   "metadata": {},
   "source": [
    "퀵정렬"
   ]
  },
  {
   "cell_type": "code",
   "execution_count": 10,
   "id": "9df0127d",
   "metadata": {},
   "outputs": [
    {
     "name": "stdout",
     "output_type": "stream",
     "text": [
      "정렬 전 --> [188, 150, 168, 162, 105, 120, 177, 50]\n",
      "정렬 후 --> [50, 105, 120, 150, 162, 168, 177, 188]\n"
     ]
    }
   ],
   "source": [
    "def quickSort(ary) :\n",
    "    \n",
    "    n = len(ary)\n",
    "    if n<=1 :\n",
    "        return ary\n",
    "    \n",
    "    pivot = ary[n//2]\n",
    "    leftAry, rightAry = [], []\n",
    "    \n",
    "    for num in ary :\n",
    "        if num < pivot :\n",
    "            leftAry.append(num)\n",
    "        elif num > pivot :\n",
    "            rightAry.append(num)\n",
    "            \n",
    "    return quickSort(leftAry) + [pivot] + quickSort(rightAry)\n",
    "\n",
    "dataAry = [188, 150, 168, 162, 105, 120, 177, 50]\n",
    "\n",
    "print('정렬 전 -->', dataAry)\n",
    "dataAry = quickSort(dataAry)\n",
    "print('정렬 후 -->', dataAry)"
   ]
  },
  {
   "cell_type": "code",
   "execution_count": 11,
   "id": "e1accab2",
   "metadata": {},
   "outputs": [
    {
     "name": "stdout",
     "output_type": "stream",
     "text": [
      "[2, 3, 4, 5, 10]\n"
     ]
    }
   ],
   "source": [
    "def quicksort(array) :\n",
    "    if len(array) < 2:\n",
    "        return array\n",
    "    else :\n",
    "        pivot = array[0]\n",
    "        less = [i for i in array[1:] if i <= pivot]\n",
    "        greater = [i for i in array[1:] if i > pivot]\n",
    "        return quicksort(less) + [pivot] + quicksort(greater)\n",
    "    \n",
    "print(quicksort([10,5,2,3,4,]))"
   ]
  },
  {
   "cell_type": "code",
   "execution_count": null,
   "id": "8959d2a6",
   "metadata": {},
   "outputs": [],
   "source": []
  }
 ],
 "metadata": {
  "kernelspec": {
   "display_name": "Python 3 (ipykernel)",
   "language": "python",
   "name": "python3"
  },
  "language_info": {
   "codemirror_mode": {
    "name": "ipython",
    "version": 3
   },
   "file_extension": ".py",
   "mimetype": "text/x-python",
   "name": "python",
   "nbconvert_exporter": "python",
   "pygments_lexer": "ipython3",
   "version": "3.9.13"
  }
 },
 "nbformat": 4,
 "nbformat_minor": 5
}
