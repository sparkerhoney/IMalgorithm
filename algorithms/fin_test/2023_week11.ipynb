{
 "cells": [
  {
   "cell_type": "code",
   "execution_count": null,
   "metadata": {
    "colab": {
     "base_uri": "https://localhost:8080/"
    },
    "id": "X29GpgVx8a3q",
    "outputId": "c4bf2ac8-8016-4e2a-f846-3d8bac3f923d"
   },
   "outputs": [
    {
     "name": "stdout",
     "output_type": "stream",
     "text": [
      "방문 순서 -->0   1   2   3   4   5   "
     ]
    }
   ],
   "source": [
    "## 클래스 및 함수 선언부\n",
    "from collections import deque\n",
    "class Graph() :\n",
    "    def __init__ (self, size) :\n",
    "        self.SIZE = size\n",
    "        self.graph = [ [0 for _ in range(size)] for _ in range(size) ]\n",
    "\n",
    "# 전역 변수부\n",
    "G1 = None\n",
    "queue = deque()\n",
    "visitedAry = [] # 방문한 노드\n",
    "\n",
    "\n",
    "# 메인 코드부\n",
    "gSize = 6\n",
    "G1 = Graph(gSize)\n",
    "G1.graph[0][1] = 1; G1.graph[0][2] = 1\n",
    "G1.graph[1][0] = 1; G1.graph[1][3] = 1\n",
    "G1.graph[2][0] = 1; G1.graph[2][3] = 1\n",
    "G1.graph[3][1] = 1; G1.graph[3][2] = 1; G1.graph[3][4] = 1; G1.graph[3][5] = 1\n",
    "G1.graph[4][3] = 1; G1.graph[4][5] = 1\n",
    "G1.graph[5][3] = 1; G1.graph[5][4] = 1\n",
    "\n",
    "current = 0 # 시작점 A\n",
    "queue.append(current)\n",
    "visitedAry.append(current)\n",
    "\n",
    "while (len(queue) != 0) :\n",
    "    current = queue.popleft()\n",
    "    for vertex in range(gSize) :\n",
    "        if G1.graph[current][vertex] == 1 :\n",
    "            if vertex in visitedAry : # 찾은게 이미 방문했으면\n",
    "                pass\n",
    "            else : # 방문 안했으면 다음 노드로 지정\n",
    "                queue.append(vertex)\n",
    "\n",
    "    if not current in visitedAry:\n",
    "        visitedAry.append(current)\n",
    "\n",
    "\n",
    "\n",
    "print('방문 순서 -->', end='')\n",
    "for i in visitedAry :\n",
    "    print( i, end='   ')"
   ]
  },
  {
   "cell_type": "code",
   "execution_count": null,
   "metadata": {
    "colab": {
     "base_uri": "https://localhost:8080/"
    },
    "id": "4YslER7583_y",
    "outputId": "ebf0f74f-cafd-45bf-e605-923d502363ab"
   },
   "outputs": [
    {
     "name": "stdout",
     "output_type": "stream",
     "text": [
      "방문 순서 -->0   1   3   2   4   5   "
     ]
    }
   ],
   "source": [
    "## 클래스 및 함수 선언부\n",
    "class Graph() :\n",
    "    def __init__ (self, size) :\n",
    "        self.SIZE = size\n",
    "        self.graph = [ [0 for _ in range(size)] for _ in range(size) ]\n",
    "\n",
    "# 전역 변수부\n",
    "G1 = None\n",
    "stack = []\n",
    "visitedAry = [] # 방문한 노드\n",
    "\n",
    "\n",
    "# 메인 코드부\n",
    "gSize = 6\n",
    "G1 = Graph(gSize)\n",
    "G1.graph[0][1] = 1; G1.graph[0][2] = 1\n",
    "G1.graph[1][0] = 1; G1.graph[1][3] = 1\n",
    "G1.graph[2][0] = 1; G1.graph[2][3] = 1\n",
    "G1.graph[3][1] = 1; G1.graph[3][2] = 1; G1.graph[3][4] = 1; G1.graph[3][5] = 1\n",
    "G1.graph[4][3] = 1; G1.graph[4][5] = 1\n",
    "G1.graph[5][3] = 1; G1.graph[5][4] = 1\n",
    "\n",
    "current = 0 # 시작점 A\n",
    "stack.append(current)\n",
    "visitedAry.append(current)\n",
    "\n",
    "while (len(stack) != 0) :\n",
    "    next = None\n",
    "    for vertex in range(gSize) :\n",
    "        if G1.graph[current][vertex] == 1 :\n",
    "            if vertex in visitedAry : # 찾은게 이미 방문했으면\n",
    "                pass\n",
    "            else : # 방문 안했으면 다음 노드로 지정\n",
    "                next = vertex\n",
    "                break\n",
    "\n",
    "    if next != None : # 다음 방문지 있으면\n",
    "        current = next\n",
    "        stack.append(current)\n",
    "        visitedAry.append(current)\n",
    "    else :\n",
    "        current = stack.pop()\n",
    "\n",
    "\n",
    "print('방문 순서 -->', end='')\n",
    "for i in visitedAry :\n",
    "    print( i, end='   ')\n"
   ]
  }
 ],
 "metadata": {
  "colab": {
   "provenance": []
  },
  "kernelspec": {
   "display_name": "Python 3 (ipykernel)",
   "language": "python",
   "name": "python3"
  },
  "language_info": {
   "codemirror_mode": {
    "name": "ipython",
    "version": 3
   },
   "file_extension": ".py",
   "mimetype": "text/x-python",
   "name": "python",
   "nbconvert_exporter": "python",
   "pygments_lexer": "ipython3",
   "version": "3.9.13"
  }
 },
 "nbformat": 4,
 "nbformat_minor": 1
}
