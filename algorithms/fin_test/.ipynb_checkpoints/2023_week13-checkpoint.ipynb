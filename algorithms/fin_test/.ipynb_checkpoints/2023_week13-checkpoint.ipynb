{
 "cells": [
  {
   "cell_type": "code",
   "execution_count": null,
   "metadata": {
    "colab": {
     "base_uri": "https://localhost:8080/"
    },
    "id": "_th0e333cR8C",
    "outputId": "efd1dc8b-9b3c-4e0f-8337-c6d720abfacf"
   },
   "outputs": [
    {
     "name": "stdout",
     "output_type": "stream",
     "text": [
      "## 메모리제이션 배열 ##\n",
      "1 개-->      0 :             0 :             0 :             0 :             0 :            13 :    금괴      13 :    금괴  \n",
      "2 개-->      0 :             0 :             0 :             8 :    수정       8 :    수정      13 :    금괴      13 :    금괴  \n",
      "3 개-->      0 :             0 :             6 :    루비       8 :    수정       8 :    수정      13 :    금괴      14 : 루비 수정  \n",
      "4 개-->      0 :             0 :             6 :    루비       8 :    수정      12 :    진주      13 :    금괴      14 : 루비 수정  \n"
     ]
    },
    {
     "data": {
      "text/plain": [
       "14"
      ]
     },
     "execution_count": 1,
     "metadata": {},
     "output_type": "execute_result"
    }
   ],
   "source": [
    "def knapsack(maxWeight, rowCount, weight, money, item):\n",
    "    print('## 메모리제이션 배열 ##')\n",
    "    array =[[0 for _ in range(maxWeight+1)] for _ in range(rowCount + 1)]\n",
    "    item_array = [['' for _ in range(maxWeight + 1)] for _ in range(rowCount + 1)]\n",
    "\n",
    "    for row in range(1, rowCount+1):\n",
    "        print(row, '개-->', end = ' ')\n",
    "        for col in range(1, maxWeight+1):\n",
    "            if weight[row] > col:\n",
    "                array[row][col] = array[row - 1][col]\n",
    "                item_array[row][col] = item_array[row - 1][col]\n",
    "            else:\n",
    "                value1 = money[row] + array[row-1][col-weight[row]]\n",
    "                item_value1 = item[row] + \" \" + item_array[row-1][col-weight[row]]\n",
    "                value2 = array[row-1][col]\n",
    "                item_value2 = item_array[row-1][col]\n",
    "                if value1 > value2 :\n",
    "                    array[row][col] = value1\n",
    "                    item_array[row][col] = item_value1\n",
    "                else :\n",
    "                    array[row][col] = value2\n",
    "                    item_array[row][col] = item_value2\n",
    "\n",
    "\n",
    "            print('%6d' % array[row][col], end = ' ')\n",
    "            print(': %6s' % item_array[row][col], end=' ')\n",
    "\n",
    "        print()\n",
    "    return array[rowCount][maxWeight]\n",
    "\n",
    "maxWeight = 7\n",
    "rowCount = 4\n",
    "weight = [0, 6, 4, 3, 5]\n",
    "money = [0, 13, 8, 6, 12]\n",
    "item = [\" \", \"금괴\", \"수정\", \"루비\", \"진주\"]\n",
    "\n",
    "knapsack(maxWeight, rowCount, weight, money, item)"
   ]
  }
 ],
 "metadata": {
  "colab": {
   "provenance": []
  },
  "kernelspec": {
   "display_name": "Python 3",
   "name": "python3"
  },
  "language_info": {
   "name": "python"
  }
 },
 "nbformat": 4,
 "nbformat_minor": 0
}
