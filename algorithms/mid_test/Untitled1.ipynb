{
 "cells": [
  {
   "cell_type": "code",
   "execution_count": 4,
   "id": "32565bbc",
   "metadata": {},
   "outputs": [
    {
     "data": {
      "text/plain": [
       "[9, 36, 81, 144, 225, 324]"
      ]
     },
     "execution_count": 4,
     "metadata": {},
     "output_type": "execute_result"
    }
   ],
   "source": [
    "# 컴프리핸션 if문을 추가하여 3의 배수인 숫자의 제곱값을 가지고 옴\n",
    "\n",
    "com_list = [num * num for num in range(1, 21) if num % 3 == 0]\n",
    "com_list"
   ]
  },
  {
   "cell_type": "code",
   "execution_count": 37,
   "id": "42a41ed1",
   "metadata": {},
   "outputs": [
    {
     "name": "stdout",
     "output_type": "stream",
     "text": [
      "3\n"
     ]
    }
   ],
   "source": [
    "# 이진 문제\n",
    "\n",
    "def binary_search(list, item):\n",
    "    low = 0\n",
    "    high = len(list) - 1 # 마지막 인덱스 값\n",
    "    mid = (low + high) // 2\n",
    "    guess = list[mid]\n",
    "    \n",
    "    if guess == item:\n",
    "        return mid\n",
    "    \n",
    "    if guess > item:\n",
    "        high = mid - 1\n",
    "        \n",
    "    if guess < item:\n",
    "        low = mid + 1\n",
    "        \n",
    "    return None\n",
    "\n",
    "myList = [1, 3, 5, 6, 7, 9, 10]\n",
    "\n",
    "print(binary_search(myList, 6))"
   ]
  },
  {
   "cell_type": "code",
   "execution_count": 12,
   "id": "6d7f73a7",
   "metadata": {},
   "outputs": [
    {
     "name": "stdout",
     "output_type": "stream",
     "text": [
      "a\n",
      "a`\n",
      "b\n"
     ]
    }
   ],
   "source": [
    "# 연결 리스트\n",
    "\n",
    "class node():\n",
    "    def __init__(self):\n",
    "        self.data = None\n",
    "        self.link = None\n",
    "\n",
    "node1 = node()\n",
    "node1.data = 'a'\n",
    "\n",
    "node2 = node()\n",
    "node2.data = 'b'\n",
    "node1.link = node2\n",
    "\n",
    "new_node = node()\n",
    "new_node.data = 'a`'\n",
    "new_node.link = node1.link\n",
    "node1.link = new_node\n",
    "\n",
    "print(node1.data)\n",
    "print(node1.link.data)\n",
    "print(node1.link.link.data)"
   ]
  },
  {
   "cell_type": "code",
   "execution_count": 14,
   "id": "65fa7abf",
   "metadata": {},
   "outputs": [
    {
     "name": "stdout",
     "output_type": "stream",
     "text": [
      "정렬 전 --> [188, 162, 168, 120, 50, 150, 177, 105]\n",
      "정렬 후 --> [50, 105, 120, 150, 162, 168, 177, 188]\n"
     ]
    }
   ],
   "source": [
    "# 선택정렬\n",
    "\n",
    "def finMinIdx(ary):\n",
    "    minidx = 0\n",
    "    for i in range(1, len(ary)):\n",
    "        if (ary[minidx] > ary[i]):\n",
    "            minidx = i\n",
    "    return minidx\n",
    "\n",
    "# 전역 변수 선언 부분\n",
    "\n",
    "before = [188, 162, 168, 120, 50, 150, 177, 105]\n",
    "after = []\n",
    "\n",
    "# 메인 코드 부분\n",
    "\n",
    "print('정렬 전 -->', before)\n",
    "\n",
    "for i in range(len(before)):\n",
    "    minpos = finMinIdx(before)\n",
    "    after.append(before[minpos])\n",
    "    del(before[minpos])\n",
    "\n",
    "print('정렬 후 -->', after)"
   ]
  },
  {
   "cell_type": "code",
   "execution_count": 25,
   "id": "379d784b",
   "metadata": {},
   "outputs": [
    {
     "name": "stdout",
     "output_type": "stream",
     "text": [
      "[50, 105, 120, 150, 162, 168, 177, 188]\n"
     ]
    }
   ],
   "source": [
    "# 선택정렬\n",
    "\n",
    "def selection_sort(ary):\n",
    "    n = len(ary)\n",
    "    \n",
    "    for i in range(0, n-1):\n",
    "        minidx = i\n",
    "        \n",
    "        for k in range(i+1, n):\n",
    "            if(ary[minidx] > ary[k]):\n",
    "                minidx = k\n",
    "        \n",
    "        tmp = ary[i]  # 1\n",
    "        ary[i] = ary[minidx]  # 2\n",
    "        ary[minidx] = tmp # 3\n",
    "        \n",
    "    return ary  \n",
    "\n",
    "data_ary = [188, 162, 168, 120, 50, 150, 177, 105]\n",
    "data_ary = selection_sort(data_ary)\n",
    "print(data_ary)\n",
    "\n",
    "# 1. 선택 정렬(selection sort) 알고리즘에서, 가장 작은 값을 찾은 후 해당 값을 맨 앞으로 이동시키기 위해 사용되는 코드는 무엇인가요?\n",
    "# 2. 선택 정렬(selection sort) 알고리즘에서, 가장 작은 값이 저장된 인덱스(`minidx`)를 이용하여 해당 값을 맨 앞으로 이동시키기 위해 사용되는 코드는 무엇인가요?\n",
    "# 3. selection_sort 함수가 반환하는 값은 무엇인가요?"
   ]
  },
  {
   "cell_type": "code",
   "execution_count": 31,
   "id": "b72de28d",
   "metadata": {},
   "outputs": [
    {
     "name": "stdout",
     "output_type": "stream",
     "text": [
      "[1, 2, 3, 4, 5, 6]\n"
     ]
    }
   ],
   "source": [
    "# 버블정렬\n",
    "\n",
    "def bubble_sort(ary):\n",
    "    for i in range(len(ary)-1, 0, -1):\n",
    "        for k in range(i):\n",
    "            if ary[k] > ary[k+1]:\n",
    "                ary[k], ary[k+1] = ary[k+1], ary[k]\n",
    "\n",
    "\n",
    "arrL = [5, 4, 1, 2, 6, 3]\n",
    "bubble_sort(arrL)\n",
    "print(arrL)"
   ]
  },
  {
   "cell_type": "code",
   "execution_count": 32,
   "id": "cb379002",
   "metadata": {},
   "outputs": [
    {
     "name": "stdout",
     "output_type": "stream",
     "text": [
      "10\n",
      "9\n",
      "8\n",
      "7\n",
      "6\n",
      "5\n",
      "4\n",
      "3\n",
      "2\n",
      "1\n",
      "0\n",
      "0\n"
     ]
    }
   ],
   "source": [
    "# 재귀\n",
    "\n",
    "def countdown(i):\n",
    "    print(i)\n",
    "    \n",
    "    if i < 1:\n",
    "        print(0)\n",
    "    else:\n",
    "        countdown(i-1)\n",
    "        \n",
    "countdown(10)"
   ]
  },
  {
   "cell_type": "code",
   "execution_count": 33,
   "id": "051137e1",
   "metadata": {},
   "outputs": [
    {
     "data": {
      "text/plain": [
       "6"
      ]
     },
     "execution_count": 33,
     "metadata": {},
     "output_type": "execute_result"
    }
   ],
   "source": [
    "# 재귀 - fact\n",
    "\n",
    "def fact(x):\n",
    "    if x == 1:\n",
    "        return 1\n",
    "    else:\n",
    "        return x * fact(x-1)\n",
    "    \n",
    "fact(3)"
   ]
  },
  {
   "cell_type": "code",
   "execution_count": 39,
   "id": "056446ed",
   "metadata": {},
   "outputs": [
    {
     "data": {
      "text/plain": [
       "8"
      ]
     },
     "execution_count": 39,
     "metadata": {},
     "output_type": "execute_result"
    }
   ],
   "source": [
    "# 퀵정렬 - 최대공약수\n",
    "\n",
    "def gcd(x, y):\n",
    "    if x % y == 0:   \n",
    "        return (y)\n",
    "    return gcd(x, x%y)\n",
    "\n",
    "\n",
    "gcd(32, 24)"
   ]
  },
  {
   "cell_type": "code",
   "execution_count": 36,
   "id": "287ab0c3",
   "metadata": {},
   "outputs": [
    {
     "name": "stdout",
     "output_type": "stream",
     "text": [
      "정렬 전 --> [188, 150, 168, 162, 105, 120, 177, 50]\n",
      "정렬 후 --> [50, 105, 120, 150, 162, 168, 177, 188]\n"
     ]
    }
   ],
   "source": [
    "# quick sort\n",
    "\n",
    "def quick_sort(ary):\n",
    "    n = len(ary)\n",
    "    \n",
    "    if n <= 1:\n",
    "        return ary\n",
    "    \n",
    "    pivot = ary[n // 2]\n",
    "    left_ary, right_ary = [], []\n",
    "    \n",
    "    for num in ary:\n",
    "        if num < pivot:\n",
    "            left_ary.append(num)\n",
    "        if num > pivot:\n",
    "            right_ary.append(num)\n",
    "            \n",
    "    return quick_sort(left_ary) + [pivot] + quick_sort(right_ary)\n",
    "\n",
    "dataAry = [188, 150, 168, 162, 105, 120, 177, 50]\n",
    "\n",
    "print('정렬 전 -->', dataAry)\n",
    "dataAry = quick_sort(dataAry)\n",
    "print('정렬 후 -->', dataAry)"
   ]
  },
  {
   "cell_type": "code",
   "execution_count": 40,
   "id": "5093f967",
   "metadata": {},
   "outputs": [
    {
     "name": "stdout",
     "output_type": "stream",
     "text": [
      "3\n"
     ]
    }
   ],
   "source": [
    "def binary_search(ary, item):\n",
    "    low = 0\n",
    "    high = len(ary)-1\n",
    "    mid = (low + high) // 2\n",
    "    guess = ary[mid]\n",
    "    \n",
    "    if guess == item:\n",
    "        return mid\n",
    "    \n",
    "    if guess > item:\n",
    "        high = mid - 1\n",
    "        \n",
    "    if guess < item:\n",
    "        low = mid + 1\n",
    "        \n",
    "    return None   \n",
    "\n",
    "myList = [1, 3, 5, 6, 7, 9, 10]\n",
    "\n",
    "print(binary_search(myList, 6))"
   ]
  },
  {
   "cell_type": "code",
   "execution_count": 46,
   "id": "555ff9e1",
   "metadata": {},
   "outputs": [
    {
     "name": "stdout",
     "output_type": "stream",
     "text": [
      "a\n",
      "a`\n",
      "b\n"
     ]
    }
   ],
   "source": [
    "class node():\n",
    "    def __init__(self):\n",
    "        self.data = None\n",
    "        self.link = None\n",
    "\n",
    "node1 = node()\n",
    "node1.data = 'a'\n",
    "\n",
    "node2 = node()\n",
    "node2.data = 'b'\n",
    "node1.link = node2 \n",
    "\n",
    "new_node = node()\n",
    "new_node.data = 'a`'\n",
    "new_node.link = node1.link\n",
    "node1.link = new_node\n",
    "\n",
    "print(node1.data)\n",
    "print(node1.link.data)\n",
    "print(node1.link.link.data)"
   ]
  },
  {
   "cell_type": "code",
   "execution_count": 52,
   "id": "3a4ef37d",
   "metadata": {
    "scrolled": true
   },
   "outputs": [
    {
     "name": "stdout",
     "output_type": "stream",
     "text": [
      "정렬 전 --> [188, 162, 168, 120, 50, 150, 177, 105]\n",
      "정렬 후 --> [50, 105, 120, 150, 162, 168, 177, 188]\n"
     ]
    }
   ],
   "source": [
    "def findminidx(ary):\n",
    "    minidx = 0\n",
    "    for i in range(0, len(ary)):\n",
    "        if ary[minidx] > ary[i]:\n",
    "            minidx = i\n",
    "            \n",
    "    return minidx\n",
    "    \n",
    "\n",
    "before = [188, 162, 168, 120, 50, 150, 177, 105]\n",
    "after = []\n",
    "\n",
    "print('정렬 전 -->', before)\n",
    "\n",
    "for i in range(len(before)):\n",
    "    minpos = findminidx(before)\n",
    "    after.append(before[minpos])\n",
    "    del before[minpos]\n",
    "\n",
    "print('정렬 후 -->', after)"
   ]
  },
  {
   "cell_type": "code",
   "execution_count": 53,
   "id": "15a676a1",
   "metadata": {},
   "outputs": [
    {
     "name": "stdout",
     "output_type": "stream",
     "text": [
      "[50, 105, 120, 150, 162, 168, 177, 188]\n"
     ]
    }
   ],
   "source": [
    "def selec_sort(ary):\n",
    "    n = lin(ary)\n",
    "    for i in range(0, n-1):\n",
    "        minidx = i\n",
    "        for k in range(i+1,n):\n",
    "            if ary[minidx] > ary[k]:\n",
    "                minidx = k\n",
    "    \n",
    "    tmp = ary[i]\n",
    "    ary[i] = ary[minidx]\n",
    "    ary[minidx] = tmp\n",
    "    \n",
    "    return ary\n",
    "\n",
    "data_ary = [188, 162, 168, 120, 50, 150, 177, 105]\n",
    "data_ary = selection_sort(data_ary)\n",
    "print(data_ary)"
   ]
  },
  {
   "cell_type": "code",
   "execution_count": 55,
   "id": "e20371b6",
   "metadata": {},
   "outputs": [
    {
     "name": "stdout",
     "output_type": "stream",
     "text": [
      "[50, 105, 120, 150, 162, 168, 177, 188]\n"
     ]
    }
   ],
   "source": [
    "# 버블정렬\n",
    "\n",
    "def bubble_sort(ary):\n",
    "    for i in range(len(ary)-1, 0, -1):\n",
    "        for k in range(i):\n",
    "            if ary[k] > ary[k+1]:\n",
    "                ary[k], ary[k+1] = ary[k+1], ary[k]\n",
    "    return ary\n",
    "\n",
    "data_ary = [188, 162, 168, 120, 50, 150, 177, 105]\n",
    "data_ary = bubble_sort(data_ary)\n",
    "print(data_ary)\n",
    "\n",
    "# def bubble_sort(ary):\n",
    "#     for i in range(len(ary)-1, 0, -1):\n",
    "#         for k in range(i):\n",
    "#             if ary[k] > ary[k+1]:\n",
    "#                 ary[k], ary[k+1] = ary[k+1], ary[k]\n",
    "\n",
    "\n",
    "# arrL = [5, 4, 1, 2, 6, 3]\n",
    "# bubble_sort(arrL)\n",
    "# print(arrL)"
   ]
  },
  {
   "cell_type": "code",
   "execution_count": 56,
   "id": "b16db912",
   "metadata": {},
   "outputs": [
    {
     "data": {
      "text/plain": [
       "8"
      ]
     },
     "execution_count": 56,
     "metadata": {},
     "output_type": "execute_result"
    }
   ],
   "source": [
    "def gcd(x, y):\n",
    "    if x%y == 0:\n",
    "        return y\n",
    "    else:\n",
    "        return gcd(x, x%y)\n",
    "\n",
    "# def gcd(x, y):\n",
    "#     if x % y == 0:   \n",
    "#         return (y)\n",
    "#     return gcd(x, x%y)\n",
    "\n",
    "\n",
    "gcd(32, 24)"
   ]
  },
  {
   "cell_type": "code",
   "execution_count": null,
   "id": "96f5d27d",
   "metadata": {},
   "outputs": [],
   "source": []
  }
 ],
 "metadata": {
  "kernelspec": {
   "display_name": "Python 3 (ipykernel)",
   "language": "python",
   "name": "python3"
  },
  "language_info": {
   "codemirror_mode": {
    "name": "ipython",
    "version": 3
   },
   "file_extension": ".py",
   "mimetype": "text/x-python",
   "name": "python",
   "nbconvert_exporter": "python",
   "pygments_lexer": "ipython3",
   "version": "3.9.13"
  }
 },
 "nbformat": 4,
 "nbformat_minor": 5
}
