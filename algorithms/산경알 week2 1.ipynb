{
 "cells": [
  {
   "cell_type": "code",
   "execution_count": 1,
   "id": "48eb5638",
   "metadata": {},
   "outputs": [
    {
     "name": "stdout",
     "output_type": "stream",
     "text": [
      "100\n",
      "200\n",
      "100200\n"
     ]
    }
   ],
   "source": [
    "var1 = input()\n",
    "var2 = input()\n",
    "\n",
    "print(var1 + var2)"
   ]
  },
  {
   "cell_type": "code",
   "execution_count": 2,
   "id": "58e5c1be",
   "metadata": {},
   "outputs": [
    {
     "name": "stdout",
     "output_type": "stream",
     "text": [
      "100\n",
      "200\n",
      "300\n"
     ]
    }
   ],
   "source": [
    "var1 = int(input())\n",
    "var2 = int(input())\n",
    "\n",
    "print(var1 + var2)"
   ]
  },
  {
   "cell_type": "code",
   "execution_count": 5,
   "id": "03f23f77",
   "metadata": {},
   "outputs": [
    {
     "name": "stdout",
     "output_type": "stream",
     "text": [
      "more than 100.\n"
     ]
    }
   ],
   "source": [
    "a = 200\n",
    "\n",
    "if a<100 :\n",
    "    print('less than 100.')\n",
    "else : \n",
    "    print('more than 100.')"
   ]
  },
  {
   "cell_type": "code",
   "execution_count": 13,
   "id": "5817a413",
   "metadata": {},
   "outputs": [
    {
     "name": "stdout",
     "output_type": "stream",
     "text": [
      "study for.\n",
      "study for.\n"
     ]
    }
   ],
   "source": [
    "for i in range(0, 10, 5):\n",
    "    print('study for.')"
   ]
  },
  {
   "cell_type": "code",
   "execution_count": 1,
   "id": "aea945fa",
   "metadata": {},
   "outputs": [
    {
     "name": "stdout",
     "output_type": "stream",
     "text": [
      "for문을 1번 실행했습니다.\n"
     ]
    }
   ],
   "source": [
    "for i in range(1,100):\n",
    "    print(\"for문을 %d번 실행했습니다.\" %i)\n",
    "    break"
   ]
  },
  {
   "cell_type": "code",
   "execution_count": 2,
   "id": "86abedf1",
   "metadata": {},
   "outputs": [
    {
     "name": "stdout",
     "output_type": "stream",
     "text": [
      "h"
     ]
    }
   ],
   "source": [
    "while True : \n",
    "    print('h', end='')\n",
    "    break"
   ]
  },
  {
   "cell_type": "code",
   "execution_count": 6,
   "id": "bd4d20b3",
   "metadata": {},
   "outputs": [
    {
     "name": "stdout",
     "output_type": "stream",
     "text": [
      "100, 200의 plus() 함수 결과는 300\n"
     ]
    }
   ],
   "source": [
    "def plus(v1,v2) :\n",
    "    result = 0 # result 0으로 초기화\n",
    "    result = v1+v2\n",
    "    return result\n",
    "\n",
    "hap = 0\n",
    "\n",
    "hap = plus(100,200)\n",
    "print('100, 200의 plus() 함수 결과는 %d' %hap)\n"
   ]
  },
  {
   "cell_type": "code",
   "execution_count": 9,
   "id": "d907864d",
   "metadata": {},
   "outputs": [
    {
     "name": "stdout",
     "output_type": "stream",
     "text": [
      "func1()에서 a 값 10\n",
      "func2()에서 a 값 10\n"
     ]
    }
   ],
   "source": [
    "def func1() :\n",
    "    global a\n",
    "    a=10\n",
    "    print(\"func1()에서 a 값 %d\" %a)\n",
    "    \n",
    "def func2() :\n",
    "    print(\"func2()에서 a 값 %d\" %a)\n",
    "    \n",
    "a = 20\n",
    "\n",
    "func1()\n",
    "func2()"
   ]
  },
  {
   "cell_type": "code",
   "execution_count": 10,
   "id": "5c55b823",
   "metadata": {},
   "outputs": [
    {
     "name": "stdout",
     "output_type": "stream",
     "text": [
      "multi()에서 반환한 값 ->300, -100\n"
     ]
    }
   ],
   "source": [
    "def multi(v1,v2) :\n",
    "    retList = [] # 차곡차곡 쌓을 수 있는 깡통\n",
    "    res1 = v1 + v2\n",
    "    res2 = v1 - v2\n",
    "    retList.append(res1)\n",
    "    retList.append(res2)\n",
    "    return retList\n",
    "\n",
    "myList = []\n",
    "hap, sub = 0,0\n",
    "\n",
    "myList = multi(100,200)\n",
    "hap = myList[0]\n",
    "sub = myList[1]\n",
    "print(\"multi()에서 반환한 값 ->%d, %d\" %(hap, sub))"
   ]
  },
  {
   "cell_type": "code",
   "execution_count": 11,
   "id": "8a60c293",
   "metadata": {},
   "outputs": [
    {
     "data": {
      "text/plain": [
       "[0, 0, 0, 0]"
      ]
     },
     "execution_count": 11,
     "metadata": {},
     "output_type": "execute_result"
    }
   ],
   "source": [
    "aa = []\n",
    "aa.append(0)\n",
    "aa.append(0)\n",
    "aa.append(0)\n",
    "aa.append(0)\n",
    "aa"
   ]
  },
  {
   "cell_type": "code",
   "execution_count": 12,
   "id": "b1552c23",
   "metadata": {},
   "outputs": [
    {
     "data": {
      "text/plain": [
       "100"
      ]
     },
     "execution_count": 12,
     "metadata": {},
     "output_type": "execute_result"
    }
   ],
   "source": [
    "aa=[]\n",
    "for i in range(0, 100): # 총 100번 돈다 <- 0~99 까지\n",
    "    aa.append(0)\n",
    "len(aa)"
   ]
  },
  {
   "cell_type": "code",
   "execution_count": 13,
   "id": "a20c2ed6",
   "metadata": {
    "scrolled": true
   },
   "outputs": [
    {
     "data": {
      "text/plain": [
       "[0,\n",
       " 0,\n",
       " 0,\n",
       " 0,\n",
       " 0,\n",
       " 0,\n",
       " 0,\n",
       " 0,\n",
       " 0,\n",
       " 0,\n",
       " 0,\n",
       " 0,\n",
       " 0,\n",
       " 0,\n",
       " 0,\n",
       " 0,\n",
       " 0,\n",
       " 0,\n",
       " 0,\n",
       " 0,\n",
       " 0,\n",
       " 0,\n",
       " 0,\n",
       " 0,\n",
       " 0,\n",
       " 0,\n",
       " 0,\n",
       " 0,\n",
       " 0,\n",
       " 0,\n",
       " 0,\n",
       " 0,\n",
       " 0,\n",
       " 0,\n",
       " 0,\n",
       " 0,\n",
       " 0,\n",
       " 0,\n",
       " 0,\n",
       " 0,\n",
       " 0,\n",
       " 0,\n",
       " 0,\n",
       " 0,\n",
       " 0,\n",
       " 0,\n",
       " 0,\n",
       " 0,\n",
       " 0,\n",
       " 0,\n",
       " 0,\n",
       " 0,\n",
       " 0,\n",
       " 0,\n",
       " 0,\n",
       " 0,\n",
       " 0,\n",
       " 0,\n",
       " 0,\n",
       " 0,\n",
       " 0,\n",
       " 0,\n",
       " 0,\n",
       " 0,\n",
       " 0,\n",
       " 0,\n",
       " 0,\n",
       " 0,\n",
       " 0,\n",
       " 0,\n",
       " 0,\n",
       " 0,\n",
       " 0,\n",
       " 0,\n",
       " 0,\n",
       " 0,\n",
       " 0,\n",
       " 0,\n",
       " 0,\n",
       " 0,\n",
       " 0,\n",
       " 0,\n",
       " 0,\n",
       " 0,\n",
       " 0,\n",
       " 0,\n",
       " 0,\n",
       " 0,\n",
       " 0,\n",
       " 0,\n",
       " 0,\n",
       " 0,\n",
       " 0,\n",
       " 0,\n",
       " 0,\n",
       " 0,\n",
       " 0,\n",
       " 0,\n",
       " 0,\n",
       " 0]"
      ]
     },
     "execution_count": 13,
     "metadata": {},
     "output_type": "execute_result"
    }
   ],
   "source": [
    "aa"
   ]
  },
  {
   "cell_type": "code",
   "execution_count": 21,
   "id": "fdf5666e",
   "metadata": {},
   "outputs": [
    {
     "name": "stdout",
     "output_type": "stream",
     "text": [
      "1번 째 숫자 :10\n",
      "2번 째 숫자 :20\n",
      "3번 째 숫자 :30\n",
      "4번 째 숫자 :40\n",
      "합계 ==> 200\n"
     ]
    }
   ],
   "source": [
    "aa=[]\n",
    "\n",
    "for i in range(0,4):\n",
    "    aa.append(0)\n",
    "# hap=0\n",
    "\n",
    "for i in range(0,4):\n",
    "    aa[i] = int(input(str(i+1)+\"번 째 숫자 :\"))\n",
    "\n",
    "\n",
    "for i in range(0,4):\n",
    "    hap = hap + aa[i]\n",
    "    \n",
    "print(\"합계 ==> %d\" %hap)"
   ]
  },
  {
   "cell_type": "code",
   "execution_count": 26,
   "id": "9827b55b",
   "metadata": {},
   "outputs": [
    {
     "name": "stdout",
     "output_type": "stream",
     "text": [
      "  1  2  3  4\n",
      "  5  6  7  8\n",
      "  9 10 11 12\n"
     ]
    }
   ],
   "source": [
    "list1=[]\n",
    "list2=[]\n",
    "value=1\n",
    "\n",
    "for i in range(0,3) :\n",
    "    for k in range(0,4) :\n",
    "        list1.append(value)\n",
    "        value+=1\n",
    "    list2.append(list1)\n",
    "    list1=[]\n",
    "    \n",
    "for i in range(0,3) :\n",
    "    for k in range(0,4) :\n",
    "        print(\"%3d\"%list2[i][k], end=\"\") #3d 하면 3칸씩 \"\"을 때준다\n",
    "    print('')"
   ]
  },
  {
   "cell_type": "code",
   "execution_count": null,
   "id": "29425e5c",
   "metadata": {},
   "outputs": [],
   "source": []
  }
 ],
 "metadata": {
  "kernelspec": {
   "display_name": "Python 3 (ipykernel)",
   "language": "python",
   "name": "python3"
  },
  "language_info": {
   "codemirror_mode": {
    "name": "ipython",
    "version": 3
   },
   "file_extension": ".py",
   "mimetype": "text/x-python",
   "name": "python",
   "nbconvert_exporter": "python",
   "pygments_lexer": "ipython3",
   "version": "3.9.13"
  }
 },
 "nbformat": 4,
 "nbformat_minor": 5
}
