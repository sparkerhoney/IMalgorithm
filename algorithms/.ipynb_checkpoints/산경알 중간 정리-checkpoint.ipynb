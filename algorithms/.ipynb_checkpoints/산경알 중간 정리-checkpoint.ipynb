{
 "cells": [
  {
   "cell_type": "markdown",
   "id": "69e946c6",
   "metadata": {},
   "source": [
    "### 00. 파이썬 기초 문법"
   ]
  },
  {
   "cell_type": "markdown",
   "id": "e1f78589",
   "metadata": {},
   "source": [
    "- 반복문\n",
    "```python\n",
    "for 변수 in range(시작값, 끝값+1, 증가값):\n",
    "```"
   ]
  },
  {
   "cell_type": "markdown",
   "id": "4db8ca0f",
   "metadata": {},
   "source": [
    "### 함수"
   ]
  },
  {
   "cell_type": "code",
   "execution_count": 1,
   "id": "6f4773e6",
   "metadata": {},
   "outputs": [
    {
     "name": "stdout",
     "output_type": "stream",
     "text": [
      "300\n"
     ]
    }
   ],
   "source": [
    "def plus(v1, v2):\n",
    "    result = 0\n",
    "    result = v1 + v2\n",
    "    return result\n",
    "\n",
    "# 전역변수 선언 부분\n",
    "\n",
    "hap = 0\n",
    "\n",
    "# 메인 코드 부분\n",
    "\n",
    "hap = plus(100, 200)\n",
    "print(hap)"
   ]
  },
  {
   "cell_type": "markdown",
   "id": "45f86374",
   "metadata": {},
   "source": [
    "- global 예약어"
   ]
  },
  {
   "cell_type": "code",
   "execution_count": 2,
   "id": "c92e598e",
   "metadata": {},
   "outputs": [
    {
     "name": "stdout",
     "output_type": "stream",
     "text": [
      "10\n",
      "10\n"
     ]
    }
   ],
   "source": [
    "def func1():\n",
    "    global a\n",
    "    a = 10\n",
    "    print(a)\n",
    "    \n",
    "def func2():\n",
    "    print(a)\n",
    "    \n",
    "a = 20\n",
    "\n",
    "func1()\n",
    "func2()"
   ]
  },
  {
   "cell_type": "markdown",
   "id": "015c3bb5",
   "metadata": {},
   "source": [
    "- 반환 값이 여러 개인 함수"
   ]
  },
  {
   "cell_type": "code",
   "execution_count": 4,
   "id": "54545321",
   "metadata": {},
   "outputs": [
    {
     "name": "stdout",
     "output_type": "stream",
     "text": [
      "300 -100 [300, -100]\n"
     ]
    }
   ],
   "source": [
    "def multi(v1, v2):\n",
    "    retList = []\n",
    "    res1 = v1 + v2\n",
    "    res2 = v1 - v2\n",
    "    retList.append(res1)\n",
    "    retList.append(res2)\n",
    "    return retList\n",
    "\n",
    "# 전역 변수 선언 부분\n",
    "myList = []\n",
    "hap, sub = 0, 0\n",
    "\n",
    "myList = multi(100, 200)\n",
    "hap = myList[0]\n",
    "sub = myList[1]\n",
    "print(hap, sub, myList)"
   ]
  },
  {
   "cell_type": "markdown",
   "id": "1ba0b476",
   "metadata": {},
   "source": [
    "### 리스트"
   ]
  },
  {
   "cell_type": "code",
   "execution_count": 5,
   "id": "34d3b87b",
   "metadata": {},
   "outputs": [
    {
     "name": "stdout",
     "output_type": "stream",
     "text": [
      "1번째 숫자 : 100\n",
      "2번째 숫자 : 100\n",
      "3번째 숫자 : 100\n",
      "4번째 숫자 : 100\n",
      "400\n"
     ]
    }
   ],
   "source": [
    "aa = []\n",
    "\n",
    "for i in range(0, 4):\n",
    "    aa.append(0)\n",
    "hap = 0\n",
    "\n",
    "for i in range(0, 4):\n",
    "    aa[i] = int(input(str(i + 1) + \"번째 숫자 : \"))\n",
    "hap = 0\n",
    "\n",
    "for i in range(0, 4):\n",
    "    hap = hap + aa[i]\n",
    "    \n",
    "print(hap)"
   ]
  },
  {
   "cell_type": "markdown",
   "id": "e1a5debb",
   "metadata": {},
   "source": [
    "- 리스트 조작 함수"
   ]
  },
  {
   "cell_type": "code",
   "execution_count": 12,
   "id": "8b055442",
   "metadata": {},
   "outputs": [
    {
     "name": "stdout",
     "output_type": "stream",
     "text": [
      "[30, 10, 20]\n",
      "[30, 10, 20, 40]\n",
      "[30, 10, 20]\n",
      "[10, 20, 30]\n",
      "[30, 20, 10]\n",
      "1\n",
      "[30, 20, 222, 10]\n",
      "[30, 20, 10]\n",
      "[30, 20, 10, 77, 88, 77]\n",
      "2\n"
     ]
    }
   ],
   "source": [
    "myList = [30, 10, 20]\n",
    "print(myList)\n",
    "\n",
    "myList.append(40)\n",
    "print(myList)\n",
    "\n",
    "myList.pop()\n",
    "print(myList)\n",
    "\n",
    "myList.sort()\n",
    "print(myList)\n",
    "\n",
    "myList.reverse()\n",
    "print(myList)\n",
    "\n",
    "print(myList.index(20))\n",
    "\n",
    "myList.insert(2, 222)\n",
    "print(myList)\n",
    "\n",
    "myList.remove(222)\n",
    "print(myList)\n",
    "\n",
    "myList.extend([77, 88, 77])\n",
    "print(myList)\n",
    "\n",
    "print(myList.count(77))"
   ]
  },
  {
   "cell_type": "markdown",
   "id": "8b3752be",
   "metadata": {},
   "source": [
    "- 2차원 리스트"
   ]
  },
  {
   "cell_type": "code",
   "execution_count": 24,
   "id": "d5548683",
   "metadata": {},
   "outputs": [
    {
     "name": "stdout",
     "output_type": "stream",
     "text": [
      "         1          2          3          4  \n",
      "         5          6          7          8  \n",
      "         9         10         11         12  \n"
     ]
    }
   ],
   "source": [
    "list1 = []\n",
    "list2 = []\n",
    "value = 1\n",
    "\n",
    "for i in range(0, 3):\n",
    "    for k in range(0, 4):\n",
    "        list1.append(value)\n",
    "        value += 1\n",
    "    list2.append(list1)\n",
    "    list1 = []\n",
    "    \n",
    "for i in range(0, 3):\n",
    "    for k in range(0, 4):\n",
    "        print(\"%10d\" % list2[i][k], end = \" \")\n",
    "    print(\" \")"
   ]
  },
  {
   "cell_type": "markdown",
   "id": "d2ecc28c",
   "metadata": {},
   "source": [
    "- 컴프리헨션 개념\n",
    "```python\n",
    "리스트 = [수식 for 항목 in range() if 조건식]\n",
    "```"
   ]
  },
  {
   "cell_type": "code",
   "execution_count": 25,
   "id": "f57f8dde",
   "metadata": {},
   "outputs": [
    {
     "data": {
      "text/plain": [
       "[1, 2, 3, 4, 5]"
      ]
     },
     "execution_count": 25,
     "metadata": {},
     "output_type": "execute_result"
    }
   ],
   "source": [
    "numList = [num for num in range(1, 6)]\n",
    "numList"
   ]
  },
  {
   "cell_type": "code",
   "execution_count": 26,
   "id": "fc5bc456",
   "metadata": {},
   "outputs": [
    {
     "data": {
      "text/plain": [
       "[9, 36, 81, 144, 225, 324]"
      ]
     },
     "execution_count": 26,
     "metadata": {},
     "output_type": "execute_result"
    }
   ],
   "source": [
    "# if문을 추가하여 3의 배수인 숫자의 제곱값을 가지고 옴\n",
    "\n",
    "numList = [num * num for num in range(1, 21) if num % 3 ==0] \n",
    "numList"
   ]
  },
  {
   "cell_type": "markdown",
   "id": "d3ef4bfb",
   "metadata": {},
   "source": [
    "## 01 알고리즘 소개"
   ]
  },
  {
   "cell_type": "markdown",
   "id": "c4c487b2",
   "metadata": {},
   "source": [
    "## 탐색"
   ]
  },
  {
   "cell_type": "markdown",
   "id": "f367a7a3",
   "metadata": {},
   "source": [
    "- 이진 탐색"
   ]
  },
  {
   "cell_type": "code",
   "execution_count": 14,
   "id": "4bc1dc90",
   "metadata": {},
   "outputs": [
    {
     "name": "stdout",
     "output_type": "stream",
     "text": [
      "3\n"
     ]
    }
   ],
   "source": [
    "def binary_search(list, item):\n",
    "    low = 0\n",
    "    high = len(list) - 1 # 내가 검색하는 list의 index 값을 가지고 옴 \n",
    "    \n",
    "    while low <= high :\n",
    "        mid = (low + high) // 2\n",
    "        guess = list[mid]\n",
    "        \n",
    "        if guess == item:\n",
    "            return mid\n",
    "        if guess > item:\n",
    "            high = mid - 1 \n",
    "        else:\n",
    "            low = mid + 1\n",
    "    return None\n",
    "\n",
    "myList = [1, 3, 5, 6, 7, 9, 10]\n",
    "\n",
    "print(binary_search(myList, 6))"
   ]
  },
  {
   "cell_type": "markdown",
   "id": "49bed7c1",
   "metadata": {},
   "source": [
    "위 코드에서 while 문은 검색 범위를 좁혀나가며, low와 high 값이 교차할 때까지 반복됩니다. 검색 범위가 교차한다는 것은 더 이상 검색할 수 있는 데이터가 없다는 것을 의미합니다.\n",
    "\n",
    "mid 변수에는 low와 high의 합을 2로 나눈 몫을 저장합니다. 이진 탐색에서는 mid 변수의 값을 중간 값으로 사용합니다. 검색할 리스트가 오름차순으로 정렬되어 있기 때문에, 중간 값 guess와 검색할 값 item을 비교합니다.\n",
    "\n",
    "만약 guess와 item 값이 동일하면, mid 값을 찾은 것이므로 mid 값을 반환합니다.\n",
    "\n",
    "guess 값이 item 값보다 크다면, 검색 범위의 왼쪽 절반에서 item 값을 찾아야 합니다. 이 경우에는 high 값을 mid - 1으로 변경하여 검색 범위를 왼쪽 절반으로 좁혀줍니다.\n",
    "\n",
    "반면에 guess 값이 item 값보다 작다면, 검색 범위의 오른쪽 절반에서 item 값을 찾아야 합니다. 이 경우에는 low 값을 mid + 1으로 변경하여 검색 범위를 오른쪽 절반으로 좁혀줍니다.\n",
    "\n",
    "이렇게 low와 high 값이 교차할 때까지 검색 범위를 좁혀가며 while 문을 반복합니다. 검색 범위가 더 이상 없으면 None 값을 반환합니다."
   ]
  },
  {
   "cell_type": "markdown",
   "id": "193290f0",
   "metadata": {},
   "source": [
    "## 02 선택 정렬"
   ]
  },
  {
   "cell_type": "markdown",
   "id": "7f15cf1b",
   "metadata": {},
   "source": [
    "### 연결 리스트"
   ]
  },
  {
   "cell_type": "code",
   "execution_count": 4,
   "id": "1a460bb0",
   "metadata": {},
   "outputs": [
    {
     "name": "stdout",
     "output_type": "stream",
     "text": [
      "다현\n",
      "정연\n",
      "재남\n",
      "쯔위\n",
      "사나\n",
      "송정\n"
     ]
    }
   ],
   "source": [
    "class Node(): # Node라는 데이터형을 만드는 것\n",
    "    def __init__(self): # 데이터형을 생성할 때 자동으로 실행되는 부분\n",
    "        self.data = None # 데이터와 링크가 저장되는 부분\n",
    "        self.link = None\n",
    "        \n",
    "# 첫 번째 노드를 생성하는 코드\n",
    "node1 = Node()\n",
    "node1.data = \"다현\"\n",
    "\n",
    "# 두 번째 노드를 생성하고, 첫 번째 노드의 링크로 연결하는 코드\n",
    "node2 = Node()\n",
    "node2.data = \"정연\"\n",
    "node1.link = node2\n",
    "\n",
    "node3 = Node()\n",
    "node3.data = \"쯔위\"\n",
    "node2.link = node3\n",
    "\n",
    "node4 = Node()\n",
    "node4.data = \"사나\"\n",
    "node3.link = node4\n",
    "\n",
    "node5 = Node()\n",
    "node5.data = \"송정\"\n",
    "node4.link = node5\n",
    "\n",
    "newNode = Node()\n",
    "newNode.data = \"재남\"\n",
    "newNode.link = node2.link\n",
    "node2.link = newNode\n",
    "\n",
    "print(node1.data)\n",
    "print(node1.link.data)\n",
    "print(node1.link.link.data)\n",
    "print(node1.link.link.link.data)\n",
    "print(node1.link.link.link.link.data)\n",
    "print(node1.link.link.link.link.link.data)"
   ]
  },
  {
   "cell_type": "code",
   "execution_count": 36,
   "id": "e200e1d2",
   "metadata": {},
   "outputs": [
    {
     "name": "stdout",
     "output_type": "stream",
     "text": [
      "다현\n",
      "정연\n",
      "사나\n",
      "송정\n"
     ]
    }
   ],
   "source": [
    "class Node(): # Node라는 데이터형을 만드는 것\n",
    "    def __init__(self): # 데이터형을 생성할 때 자동으로 실행되는 부분\n",
    "        self.data = None # 데이터와 링크가 저장되는 부분\n",
    "        self.link = None\n",
    "        \n",
    "# 첫 번째 노드를 생성하는 코드\n",
    "node1 = Node()\n",
    "node1.data = \"다현\"\n",
    "\n",
    "# 두 번째 노드를 생성하고, 첫 번째 노드의 링크로 연결하는 코드\n",
    "node2 = Node()\n",
    "node2.data = \"정연\"\n",
    "node1.link = node2\n",
    "\n",
    "node3 = Node()\n",
    "node3.data = \"쯔위\"\n",
    "node2.link = node3\n",
    "\n",
    "node4 = Node()\n",
    "node4.data = \"사나\"\n",
    "node3.link = node4\n",
    "\n",
    "node5 = Node()\n",
    "node5.data = \"송정\"\n",
    "node4.link = node5\n",
    "\n",
    "node2.link = node3.link\n",
    "del(node3)\n",
    "\n",
    "print(node1.data)\n",
    "print(node1.link.data)\n",
    "print(node1.link.link.data)\n",
    "print(node1.link.link.link.data)\n"
   ]
  },
  {
   "cell_type": "markdown",
   "id": "438c6644",
   "metadata": {},
   "source": [
    "- 선택정렬"
   ]
  },
  {
   "cell_type": "code",
   "execution_count": 41,
   "id": "d96b1af2",
   "metadata": {},
   "outputs": [
    {
     "name": "stdout",
     "output_type": "stream",
     "text": [
      "정렬 전 --> [188, 162, 168, 120, 50, 150, 177, 105]\n",
      "정렬 후 --> [50, 105, 120, 150, 162, 168, 177, 188]\n"
     ]
    }
   ],
   "source": [
    "# 클래스와 함수 선언 부분\n",
    "\n",
    "def finMinIdx(ary):\n",
    "    minidx = 0\n",
    "    for i in range(1, len(ary)):\n",
    "        if (ary[minidx] > ary[i]):\n",
    "            minidx = i\n",
    "    return minidx\n",
    "\n",
    "# 전역 변수 선언 부분\n",
    "\n",
    "before = [188, 162, 168, 120, 50, 150, 177, 105]\n",
    "after = []\n",
    "\n",
    "# 메인 코드 부분\n",
    "\n",
    "print('정렬 전 -->', before)\n",
    "\n",
    "for i in range(len(before)):\n",
    "    minpos = finMinIdx(before)\n",
    "    after.append(before[minpos])\n",
    "    del(before[minpos])\n",
    "    \n",
    "print('정렬 후 -->', after)"
   ]
  },
  {
   "cell_type": "code",
   "execution_count": 42,
   "id": "1dade417",
   "metadata": {},
   "outputs": [
    {
     "name": "stdout",
     "output_type": "stream",
     "text": [
      "정렬 전 --> [188, 162, 168, 120, 50, 150, 177, 105]\n",
      "정렬 후 --> [50, 105, 120, 150, 162, 168, 177, 188]\n"
     ]
    }
   ],
   "source": [
    "def selection_sort(ary):\n",
    "    n = len(ary)\n",
    "    for i in range(0, n-1):\n",
    "        minidx = i\n",
    "        for k in range(i+1, n):\n",
    "            if (ary[minidx] > ary[k]):\n",
    "                minidx = k\n",
    "        tmp = ary[i]\n",
    "        ary[i] = ary[minidx]\n",
    "        ary[minidx] = tmp\n",
    "        \n",
    "    return ary\n",
    "\n",
    "dataAry = [188, 162, 168, 120, 50, 150, 177, 105]\n",
    "\n",
    "print('정렬 전 -->', dataAry)\n",
    "dataAry = selection_sort(dataAry)\n",
    "print('정렬 후 -->', dataAry)"
   ]
  },
  {
   "cell_type": "markdown",
   "id": "79970cf9",
   "metadata": {},
   "source": [
    "- 버블정렬"
   ]
  },
  {
   "cell_type": "code",
   "execution_count": 40,
   "id": "26e219d5",
   "metadata": {},
   "outputs": [
    {
     "name": "stdout",
     "output_type": "stream",
     "text": [
      "[1, 2, 3, 4, 5, 6]\n"
     ]
    }
   ],
   "source": [
    "def bubble_sort(arr):\n",
    "    for i in range(len(arr) - 1, 0, -1):\n",
    "        for j in range(i):\n",
    "            if arr[j] > arr[j + 1]:\n",
    "                arr[j], arr[j + 1] = arr[j + 1], arr[j]\n",
    "                \n",
    "arrL = [5, 4, 1, 2, 6, 3]\n",
    "bubble_sort(arrL)\n",
    "print(arrL)"
   ]
  },
  {
   "cell_type": "markdown",
   "id": "9c04eeca",
   "metadata": {},
   "source": [
    "## 03 재귀"
   ]
  },
  {
   "cell_type": "markdown",
   "id": "33c5f2b2",
   "metadata": {},
   "source": [
    "### 재귀"
   ]
  },
  {
   "cell_type": "markdown",
   "id": "63ddfa0d",
   "metadata": {},
   "source": [
    " - 모든 재귀함수는 기본단계와 재귀단계로 나누어짐\n",
    " > 1. 재귀 단계 : 함수가 자기 자신을 호출하는 부분\n",
    " > 2. 기본 단계 : 함수가 스스로를 다시 호출하지 않도록 하는 부분"
   ]
  },
  {
   "cell_type": "code",
   "execution_count": 3,
   "id": "4744bd76",
   "metadata": {},
   "outputs": [
    {
     "name": "stdout",
     "output_type": "stream",
     "text": [
      "종이 상자를 엽니다.\n",
      "종이 상자를 엽니다.\n",
      "종이 상자를 엽니다.\n",
      "종이 상자를 엽니다.\n",
      "종이 상자를 엽니다.\n",
      "종이 상자를 엽니다.\n",
      "종이 상자를 엽니다.\n",
      "종이 상자를 엽니다.\n",
      "종이 상자를 엽니다.\n",
      "종이 상자를 엽니다.\n",
      "반지를 넣고 반환합니다.\n",
      "종이 상자를 닫습니다.\n",
      "종이 상자를 닫습니다.\n",
      "종이 상자를 닫습니다.\n",
      "종이 상자를 닫습니다.\n",
      "종이 상자를 닫습니다.\n",
      "종이 상자를 닫습니다.\n",
      "종이 상자를 닫습니다.\n",
      "종이 상자를 닫습니다.\n",
      "종이 상자를 닫습니다.\n"
     ]
    }
   ],
   "source": [
    "def openBox():\n",
    "    global count\n",
    "    print(\"종이 상자를 엽니다.\")\n",
    "    count -= 1\n",
    "    if count == 0:\n",
    "        print(\"반지를 넣고 반환합니다.\")\n",
    "        return\n",
    "    openBox()\n",
    "    print(\"종이 상자를 닫습니다.\")\n",
    "    \n",
    "count = 10\n",
    "openBox()"
   ]
  },
  {
   "cell_type": "code",
   "execution_count": 2,
   "id": "e0260411",
   "metadata": {},
   "outputs": [
    {
     "name": "stdout",
     "output_type": "stream",
     "text": [
      "10\n",
      "9\n",
      "8\n",
      "7\n",
      "6\n",
      "5\n",
      "4\n",
      "3\n",
      "2\n",
      "1\n",
      "0\n"
     ]
    }
   ],
   "source": [
    "def countdown(i):\n",
    "    print(i)\n",
    "    \n",
    "    if i <= 1:\n",
    "        return print(0)\n",
    "    else:\n",
    "        countdown(i-1)\n",
    "        \n",
    "countdown(10)"
   ]
  },
  {
   "cell_type": "markdown",
   "id": "392d1999",
   "metadata": {},
   "source": [
    "### 스택"
   ]
  },
  {
   "cell_type": "markdown",
   "id": "07a40b0d",
   "metadata": {},
   "source": [
    "- 팩토리얼 함수의 계산"
   ]
  },
  {
   "cell_type": "code",
   "execution_count": 3,
   "id": "9336b758",
   "metadata": {},
   "outputs": [
    {
     "data": {
      "text/plain": [
       "6"
      ]
     },
     "execution_count": 3,
     "metadata": {},
     "output_type": "execute_result"
    }
   ],
   "source": [
    "def fact(x):\n",
    "    if x == 1:\n",
    "        return 1\n",
    "    else:\n",
    "        return x * fact(x-1)\n",
    "    \n",
    "fact(3)"
   ]
  },
  {
   "cell_type": "markdown",
   "id": "1f2643b8",
   "metadata": {},
   "source": [
    "- 최대 공약수 문제"
   ]
  },
  {
   "cell_type": "code",
   "execution_count": null,
   "id": "8e31f77b",
   "metadata": {},
   "outputs": [],
   "source": []
  }
 ],
 "metadata": {
  "kernelspec": {
   "display_name": "Python 3 (ipykernel)",
   "language": "python",
   "name": "python3"
  },
  "language_info": {
   "codemirror_mode": {
    "name": "ipython",
    "version": 3
   },
   "file_extension": ".py",
   "mimetype": "text/x-python",
   "name": "python",
   "nbconvert_exporter": "python",
   "pygments_lexer": "ipython3",
   "version": "3.9.13"
  }
 },
 "nbformat": 4,
 "nbformat_minor": 5
}
