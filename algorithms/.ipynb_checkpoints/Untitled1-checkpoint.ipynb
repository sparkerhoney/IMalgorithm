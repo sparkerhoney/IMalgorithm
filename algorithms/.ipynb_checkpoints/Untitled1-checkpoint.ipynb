{
 "cells": [
  {
   "cell_type": "code",
   "execution_count": 4,
   "id": "32565bbc",
   "metadata": {},
   "outputs": [
    {
     "data": {
      "text/plain": [
       "[9, 36, 81, 144, 225, 324]"
      ]
     },
     "execution_count": 4,
     "metadata": {},
     "output_type": "execute_result"
    }
   ],
   "source": [
    "# 컴프리핸션 if문을 추가하여 3의 배수인 숫자의 제곱값을 가지고 옴\n",
    "\n",
    "com_list = [num * num for num in range(1, 21) if num % 3 == 0]\n",
    "com_list"
   ]
  },
  {
   "cell_type": "code",
   "execution_count": 5,
   "id": "42a41ed1",
   "metadata": {},
   "outputs": [
    {
     "name": "stdout",
     "output_type": "stream",
     "text": [
      "3\n"
     ]
    }
   ],
   "source": [
    "# 이진 문제\n",
    "def binary_search(list, item):\n",
    "    low = 0\n",
    "    high = len(list) - 1 # 마지막 인덱스 값\n",
    "    mid = (low + high) // 2\n",
    "    guess = list[mid]\n",
    "    \n",
    "    if guess == item:\n",
    "        return mid\n",
    "    \n",
    "    if guess > item:\n",
    "        high = mid - 1\n",
    "        \n",
    "    if guess < item:\n",
    "        low = mid + 1\n",
    "        \n",
    "    return None\n",
    "\n",
    "myList = [1, 3, 5, 6, 7, 9, 10]\n",
    "\n",
    "print(binary_search(myList, 6))"
   ]
  },
  {
   "cell_type": "code",
   "execution_count": 12,
   "id": "6d7f73a7",
   "metadata": {},
   "outputs": [
    {
     "name": "stdout",
     "output_type": "stream",
     "text": [
      "a\n",
      "a`\n",
      "b\n"
     ]
    }
   ],
   "source": [
    "# 연결 리스트\n",
    "class node():\n",
    "    def __init__(self):\n",
    "        self.data = None\n",
    "        self.link = None\n",
    "\n",
    "node1 = node()\n",
    "node1.data = 'a'\n",
    "\n",
    "node2 = node()\n",
    "node2.data = 'b'\n",
    "node1.link = node2\n",
    "\n",
    "new_node = node()\n",
    "new_node.data = 'a`'\n",
    "new_node.link = node1.link\n",
    "node1.link = new_node\n",
    "\n",
    "print(node1.data)\n",
    "print(node1.link.data)\n",
    "print(node1.link.link.data)"
   ]
  },
  {
   "cell_type": "code",
   "execution_count": null,
   "id": "379d784b",
   "metadata": {},
   "outputs": [],
   "source": [
    "# 선택정렬\n"
   ]
  }
 ],
 "metadata": {
  "kernelspec": {
   "display_name": "Python 3 (ipykernel)",
   "language": "python",
   "name": "python3"
  },
  "language_info": {
   "codemirror_mode": {
    "name": "ipython",
    "version": 3
   },
   "file_extension": ".py",
   "mimetype": "text/x-python",
   "name": "python",
   "nbconvert_exporter": "python",
   "pygments_lexer": "ipython3",
   "version": "3.9.13"
  }
 },
 "nbformat": 4,
 "nbformat_minor": 5
}
