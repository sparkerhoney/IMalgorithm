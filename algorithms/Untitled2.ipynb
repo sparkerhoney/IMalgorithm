{
 "cells": [
  {
   "cell_type": "code",
   "execution_count": 1,
   "id": "f6af4c8f",
   "metadata": {},
   "outputs": [
    {
     "data": {
      "text/plain": [
       "[9, 36, 81, 144, 225, 324]"
      ]
     },
     "execution_count": 1,
     "metadata": {},
     "output_type": "execute_result"
    }
   ],
   "source": [
    "# 컴프리핸션 if문을 추가하여 3의 배수인 숫자의 제곱값을 가지고 옴\n",
    "\n",
    "num_list = [num * num for num in range (1, 21) if num % 3 == 0]\n",
    "num_list"
   ]
  },
  {
   "cell_type": "code",
   "execution_count": 5,
   "id": "7db03d46",
   "metadata": {},
   "outputs": [
    {
     "name": "stdout",
     "output_type": "stream",
     "text": [
      "3\n"
     ]
    }
   ],
   "source": [
    "# 이진 문제\n",
    "\n",
    "def binary_search(ary, item):\n",
    "    low = 0\n",
    "    high = len(ary) - 1\n",
    "    mid = (low + high) // 2\n",
    "    guess = ary[mid]\n",
    "    \n",
    "    if guess == item:\n",
    "        return mid\n",
    "    \n",
    "    if guess > item:\n",
    "        high = mid - 1\n",
    "        \n",
    "    if guess < item:\n",
    "        low = mid + 1\n",
    "    \n",
    "    return None\n",
    "\n",
    "myList = [1, 3, 5, 6, 7, 9, 10]\n",
    "\n",
    "print(binary_search(myList, 6))"
   ]
  },
  {
   "cell_type": "code",
   "execution_count": null,
   "id": "bc9f24d8",
   "metadata": {},
   "outputs": [],
   "source": [
    "# 연결 리스트"
   ]
  },
  {
   "cell_type": "code",
   "execution_count": null,
   "id": "d8797562",
   "metadata": {},
   "outputs": [],
   "source": [
    "# 선택정렬"
   ]
  },
  {
   "cell_type": "code",
   "execution_count": null,
   "id": "921c4f85",
   "metadata": {},
   "outputs": [],
   "source": [
    "# 선택정렬 - def"
   ]
  },
  {
   "cell_type": "code",
   "execution_count": null,
   "id": "37a4b1e1",
   "metadata": {},
   "outputs": [],
   "source": [
    "# 버블정렬"
   ]
  },
  {
   "cell_type": "code",
   "execution_count": null,
   "id": "9e4bbe98",
   "metadata": {},
   "outputs": [],
   "source": [
    "# 재귀 - countdown"
   ]
  },
  {
   "cell_type": "code",
   "execution_count": null,
   "id": "337ca5c7",
   "metadata": {},
   "outputs": [],
   "source": [
    "# 퀵정렬 - 최대공약수"
   ]
  },
  {
   "cell_type": "code",
   "execution_count": null,
   "id": "bb967ddb",
   "metadata": {},
   "outputs": [],
   "source": [
    "# quick sort"
   ]
  }
 ],
 "metadata": {
  "kernelspec": {
   "display_name": "Python 3 (ipykernel)",
   "language": "python",
   "name": "python3"
  },
  "language_info": {
   "codemirror_mode": {
    "name": "ipython",
    "version": 3
   },
   "file_extension": ".py",
   "mimetype": "text/x-python",
   "name": "python",
   "nbconvert_exporter": "python",
   "pygments_lexer": "ipython3",
   "version": "3.9.13"
  }
 },
 "nbformat": 4,
 "nbformat_minor": 5
}
