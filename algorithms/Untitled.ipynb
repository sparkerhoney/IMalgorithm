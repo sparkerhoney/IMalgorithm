{
 "cells": [
  {
   "cell_type": "code",
   "execution_count": 4,
   "id": "949a78d1",
   "metadata": {},
   "outputs": [
    {
     "name": "stdout",
     "output_type": "stream",
     "text": [
      "multi에서 반환한 값 --> [120, 80, 2000, 5, 0, 10000000000000000000000000000000000000000]\n"
     ]
    }
   ],
   "source": [
    "def multi(v1, v2):\n",
    "    reList = []\n",
    "    reList.append(v1 + v2)\n",
    "    reList.append(v1 - v2)\n",
    "    reList.append(v1 * v2)\n",
    "    reList.append(v1 // v2)\n",
    "    reList.append(v1 % v2)\n",
    "    reList.append(v1 ** v2)\n",
    "    return reList\n",
    "\n",
    "myList = []\n",
    "# hap, sub = 0, 0\n",
    "\n",
    "myList = multi(100, 20)\n",
    "print('multi에서 반환한 값 -->',(myList))\n"
   ]
  },
  {
   "cell_type": "code",
   "execution_count": 5,
   "id": "524e039d",
   "metadata": {},
   "outputs": [
    {
     "name": "stdout",
     "output_type": "stream",
     "text": [
      "1번째 호출 결과 --> [15, 5, 50, 2, 0, 100000]\n",
      "2번째 호출 결과 --> [25, 15, 100, 4, 0, 3200000]\n",
      "3번째 호출 결과 --> [35, 25, 150, 6, 0, 24300000]\n",
      "4번째 호출 결과 --> [45, 35, 200, 8, 0, 102400000]\n",
      "5번째 호출 결과 --> [55, 45, 250, 10, 0, 312500000]\n"
     ]
    }
   ],
   "source": [
    "def multi(v1, v2):\n",
    "    reList = []\n",
    "    reList.append(v1 + v2)\n",
    "    reList.append(v1 - v2)\n",
    "    reList.append(v1 * v2)\n",
    "    \n",
    "    # 조건문을 사용하여 v2가 0일 경우, 나누기와 나머지 연산 대신 'N/A' 값을 추가합니다.\n",
    "    if v2 == 0:\n",
    "        reList.append('N/A')\n",
    "        reList.append('N/A')\n",
    "    else:\n",
    "        reList.append(v1 // v2)\n",
    "        reList.append(v1 % v2)\n",
    "    \n",
    "    reList.append(v1 ** v2)\n",
    "    return reList\n",
    "\n",
    "myList = []\n",
    "\n",
    "# 반복문을 사용하여 multi 함수에 인자를 전달하고, myList에 결과 값을 저장합니다.\n",
    "for i in range(1, 6):\n",
    "    # 인자로 전달할 값을 미리 리스트에 저장합니다.\n",
    "    values = [i*10, 5]\n",
    "    result = multi(*values)  # 인자 전달 시, 리스트를 언패킹(*)하여 전달합니다.\n",
    "    myList.append(result)\n",
    "\n",
    "# myList에 저장된 값을 출력합니다.\n",
    "for i, result in enumerate(myList):\n",
    "    print(f'{i+1}번째 호출 결과 --> {result}')\n"
   ]
  },
  {
   "cell_type": "code",
   "execution_count": 8,
   "id": "fbe5e60e",
   "metadata": {},
   "outputs": [
    {
     "name": "stdout",
     "output_type": "stream",
     "text": [
      "이름 --> 트와이스\n",
      "구성원 수 --> 9\n",
      "데뷔 --> 서바이벌 식스틴\n",
      "대표곡 --> SIGNAL\n"
     ]
    }
   ],
   "source": [
    "singer = {}\n",
    "\n",
    "singer['이름'] = '트와이스'\n",
    "singer['구성원 수'] = 9\n",
    "singer['데뷔'] = '서바이벌 식스틴'\n",
    "singer['대표곡'] = 'SIGNAL'\n",
    "\n",
    "for k in singer.keys():\n",
    "    print('%s --> %s' %(k, singer[k]))"
   ]
  },
  {
   "cell_type": "code",
   "execution_count": null,
   "id": "396ffdf0",
   "metadata": {},
   "outputs": [],
   "source": []
  }
 ],
 "metadata": {
  "kernelspec": {
   "display_name": "Python 3 (ipykernel)",
   "language": "python",
   "name": "python3"
  },
  "language_info": {
   "codemirror_mode": {
    "name": "ipython",
    "version": 3
   },
   "file_extension": ".py",
   "mimetype": "text/x-python",
   "name": "python",
   "nbconvert_exporter": "python",
   "pygments_lexer": "ipython3",
   "version": "3.9.13"
  }
 },
 "nbformat": 4,
 "nbformat_minor": 5
}
