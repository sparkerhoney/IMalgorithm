{
 "cells": [
  {
   "cell_type": "code",
   "execution_count": 1,
   "metadata": {
    "colab": {
     "base_uri": "https://localhost:8080/"
    },
    "id": "rlEirFtSHdIT",
    "outputId": "57a27a4a-98c0-450e-93f8-7e2543d46871"
   },
   "outputs": [
    {
     "name": "stdout",
     "output_type": "stream",
     "text": [
      "Set parameter Username\n",
      "Academic license - for non-commercial use only - expires 2024-05-21\n",
      "Gurobi Optimizer version 10.0.1 build v10.0.1rc0 (win64)\n",
      "\n",
      "CPU model: Intel(R) Core(TM) i7-7700 CPU @ 3.60GHz, instruction set [SSE2|AVX|AVX2]\n",
      "Thread count: 4 physical cores, 8 logical processors, using up to 8 threads\n",
      "\n",
      "Optimize a model with 3 rows, 2 columns and 6 nonzeros\n",
      "Model fingerprint: 0x47f633d9\n",
      "Coefficient statistics:\n",
      "  Matrix range     [1e+00, 4e+00]\n",
      "  Objective range  [1e+00, 2e+00]\n",
      "  Bounds range     [0e+00, 0e+00]\n",
      "  RHS range        [4e+00, 1e+01]\n",
      "Presolve time: 0.01s\n",
      "Presolved: 3 rows, 2 columns, 6 nonzeros\n",
      "\n",
      "Iteration    Objective       Primal Inf.    Dual Inf.      Time\n",
      "       0    2.0000000e+30   3.000000e+30   2.000000e+00      0s\n",
      "       2    6.6666667e+00   0.000000e+00   0.000000e+00      0s\n",
      "\n",
      "Solved in 2 iterations and 0.01 seconds (0.00 work units)\n",
      "Optimal objective  6.666666667e+00\n",
      "\n",
      "    Variable            X \n",
      "-------------------------\n",
      "          x1      1.33333 \n",
      "          x2      2.66667 \n"
     ]
    }
   ],
   "source": [
    "# %pip install gurobipy\n",
    "from gurobipy import *\n",
    "\n",
    "m=Model()\n",
    "\n",
    "# 결정 변수 생성\n",
    "x1 = m.addVar(vtype = GRB.CONTINUOUS, name='x1')\n",
    "x2 = m.addVar(vtype = GRB.CONTINUOUS, name='x2')\n",
    "\n",
    "# 목적함수 생성\n",
    "m.setObjective(x1 + 2*x2, GRB.MAXIMIZE)\n",
    "\n",
    "# 제약식 생성\n",
    "m.addConstr(x1 + x2 <= 4)\n",
    "m.addConstr(x1 - 2*x2 <= 0)\n",
    "m.addConstr(x1 + 4*x2 <= 12)\n",
    "\n",
    "# 모델 최적화\n",
    "m.optimize()\n",
    "\n",
    "# 최적해 출력\n",
    "if m.SolCount > 0: #최적해 발견 flag\n",
    "  m.printAttr('X')\n"
   ]
  },
  {
   "cell_type": "code",
   "execution_count": 2,
   "metadata": {
    "colab": {
     "base_uri": "https://localhost:8080/"
    },
    "id": "pnfySRQp78U-",
    "outputId": "4ffb98d4-d969-4861-d26b-cbb1ee5bc50a"
   },
   "outputs": [
    {
     "name": "stdout",
     "output_type": "stream",
     "text": [
      "Collecting gurobipyNote: you may need to restart the kernel to use updated packages.\n",
      "Gurobi Optimizer version 10.0.1 build v10.0.1rc0 (win64)\n",
      "\n",
      "  Downloading gurobipy-10.0.1-cp39-cp39-win_amd64.whl (9.7 MB)\n",
      "     ---------------------------------------- 9.7/9.7 MB 10.3 MB/s eta 0:00:00\n",
      "Installing collected packages: gurobipy\n",
      "Successfully installed gurobipy-10.0.1\n",
      "\n",
      "CPU model: Intel(R) Core(TM) i7-7700 CPU @ 3.60GHz, instruction set [SSE2|AVX|AVX2]\n",
      "Thread count: 4 physical cores, 8 logical processors, using up to 8 threads\n",
      "\n",
      "Optimize a model with 2 rows, 3 columns and 5 nonzeros\n",
      "Model fingerprint: 0x98886187\n",
      "Variable types: 0 continuous, 3 integer (3 binary)\n",
      "Coefficient statistics:\n",
      "  Matrix range     [1e+00, 3e+00]\n",
      "  Objective range  [1e+00, 2e+00]\n",
      "  Bounds range     [1e+00, 1e+00]\n",
      "  RHS range        [1e+00, 4e+00]\n",
      "Found heuristic solution: objective 2.0000000\n",
      "Presolve removed 2 rows and 3 columns\n",
      "Presolve time: 0.00s\n",
      "Presolve: All rows and columns removed\n",
      "\n",
      "Explored 0 nodes (0 simplex iterations) in 0.01 seconds (0.00 work units)\n",
      "Thread count was 1 (of 8 available processors)\n",
      "\n",
      "Solution count 2: 3 2 \n",
      "\n",
      "Optimal solution found (tolerance 1.00e-04)\n",
      "Best objective 3.000000000000e+00, best bound 3.000000000000e+00, gap 0.0000%\n",
      "\n",
      "    Variable            X \n",
      "-------------------------\n",
      "           x            1 \n",
      "           z            1 \n"
     ]
    }
   ],
   "source": [
    "%pip install gurobipy\n",
    "from gurobipy import *\n",
    "m = Model()\n",
    "\n",
    "x= m.addVar(vtype=GRB.BINARY, name ='x')\n",
    "y= m.addVar(vtype=GRB.BINARY, name ='y')\n",
    "z= m.addVar(vtype=GRB.BINARY, name ='z')\n",
    "\n",
    "m.setObjective(x+y+2*z, GRB.MAXIMIZE)\n",
    "\n",
    "c1= m.addConstr(x+2*y+3*z<=4)\n",
    "c2= m.addConstr(x+y>=1)\n",
    "\n",
    "m.optimize()\n",
    "\n",
    "if m.SolCount > 0: #최적해 발견 flag\n",
    "  m.printAttr('X')"
   ]
  },
  {
   "cell_type": "code",
   "execution_count": 3,
   "metadata": {
    "colab": {
     "base_uri": "https://localhost:8080/"
    },
    "id": "bzqUsbQJLXBH",
    "outputId": "5cf7d1e1-5b3f-43cd-978e-06aa9901abb9"
   },
   "outputs": [
    {
     "name": "stdout",
     "output_type": "stream",
     "text": [
      "Requirement already satisfied: gurobipy in c:\\users\\lhe33\\anaconda3\\lib\\site-packages (10.0.1)\n",
      "Note: you may need to restart the kernel to use updated packages.\n",
      "Gurobi Optimizer version 10.0.1 build v10.0.1rc0 (win64)\n",
      "\n",
      "CPU model: Intel(R) Core(TM) i7-7700 CPU @ 3.60GHz, instruction set [SSE2|AVX|AVX2]\n",
      "Thread count: 4 physical cores, 8 logical processors, using up to 8 threads\n",
      "\n",
      "Optimize a model with 1 rows, 7 columns and 7 nonzeros\n",
      "Model fingerprint: 0x0562de0a\n",
      "Variable types: 0 continuous, 7 integer (7 binary)\n",
      "Coefficient statistics:\n",
      "  Matrix range     [2e+00, 9e+00]\n",
      "  Objective range  [3e+00, 9e+00]\n",
      "  Bounds range     [1e+00, 1e+00]\n",
      "  RHS range        [9e+00, 9e+00]\n",
      "Found heuristic solution: objective 14.0000000\n",
      "Presolve removed 1 rows and 7 columns\n",
      "Presolve time: 0.00s\n",
      "Presolve: All rows and columns removed\n",
      "\n",
      "Explored 0 nodes (0 simplex iterations) in 0.01 seconds (0.00 work units)\n",
      "Thread count was 1 (of 8 available processors)\n",
      "\n",
      "Solution count 2: 15 14 \n",
      "\n",
      "Optimal solution found (tolerance 1.00e-04)\n",
      "Best objective 1.500000000000e+01, best bound 1.500000000000e+01, gap 0.0000%\n",
      "\n",
      "    Variable            X \n",
      "-------------------------\n",
      "        x[0]            1 \n",
      "        x[3]            1 \n"
     ]
    }
   ],
   "source": [
    "%pip install gurobipy\n",
    "from gurobipy import *\n",
    "\n",
    "# 계수 정의\n",
    "n = 7\n",
    "p = [6, 5, 8, 9, 6, 7, 3]\n",
    "w = [2, 3, 6, 7, 5, 9, 4]\n",
    "c = 9\n",
    "\n",
    "# 빈 model 생성\n",
    "m = Model()\n",
    "\n",
    "# add decision variables\n",
    "# 변수 생성\n",
    "x = m.addVars(n, vtype = GRB.BINARY, name='x')\n",
    "# set objective function\n",
    "# 목적함수 생성\n",
    "m.setObjective(quicksum(x[i]*p[i] for i in range(n)), GRB.MAXIMIZE)\n",
    "# add constraint\n",
    "# 제약식 생성\n",
    "m.addConstr(quicksum(x[i]*w[i] for i in range(n)) <= c, name='knapsack')\n",
    "# 모델 최적화\n",
    "m.optimize()\n",
    "\n",
    "# display solution\n",
    "if m.SolCount > 0: #최적해 발견 flag\n",
    "  m.printAttr('X')\n",
    "\n",
    "# export model\n",
    "m.write('knapsack.lp')\n"
   ]
  }
 ],
 "metadata": {
  "colab": {
   "provenance": []
  },
  "kernelspec": {
   "display_name": "Python 3 (ipykernel)",
   "language": "python",
   "name": "python3"
  },
  "language_info": {
   "codemirror_mode": {
    "name": "ipython",
    "version": 3
   },
   "file_extension": ".py",
   "mimetype": "text/x-python",
   "name": "python",
   "nbconvert_exporter": "python",
   "pygments_lexer": "ipython3",
   "version": "3.9.13"
  }
 },
 "nbformat": 4,
 "nbformat_minor": 1
}
